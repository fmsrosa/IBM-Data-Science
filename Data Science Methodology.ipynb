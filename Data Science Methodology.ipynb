{
 "cells": [
  {
   "cell_type": "markdown",
   "metadata": {},
   "source": [
    "## Final Assignment of the course *Data Science Methodology*\n",
    "#### Submitted on 7 February 2019"
   ]
  },
  {
   "cell_type": "markdown",
   "metadata": {},
   "source": [
    "This notebook is organized as following:\n",
    "\n",
    "* [Overview of the course](#overview)\n",
    "* [Assignment instructions](#instructions)\n",
    "* [My submission](#submission)\n",
    "    * [Question 1](#q1)\n",
    "    * [Question 2](#q2)\n",
    "    * [Question 3](#q3)"
   ]
  },
  {
   "cell_type": "markdown",
   "metadata": {},
   "source": [
    "### Overview of the course <a class=\"anchor\" id=\"overview\"></a>\n",
    "\n",
    "Despite the recent increase in computing power and access to data over the last couple of decades, our ability to use the data within the decision making process is either lost or not maximized at all too often, we don't have a solid understanding of the questions being asked and how to apply the data correctly to the problem at hand.\n",
    "\n",
    "This course has one purpose, and that is to share a methodology that can be used within data science, to ensure that the data used in problem solving is relevant and properly manipulated to address the question at hand.\n",
    "\n",
    "Accordingly, in this course, you will learn:\n",
    "1. The major steps involved in tackling a data science problem.\n",
    "2. The major steps involved in practicing data science, from forming a concrete business or research problem, to collecting and analyzing data, to building a model, and understanding the feedback after model deployment.\n",
    "3. How data scientists think!"
   ]
  },
  {
   "cell_type": "markdown",
   "metadata": {},
   "source": [
    "### Assignment instructions <a class=\"anchor\" id=\"instructions\"></a>\n",
    "\n",
    "In this Assignment, you will demonstrate your understanding of the data science methodology by applying it to a given problem. Pick one of the following topics to apply the data science methodology to:\n",
    "\n",
    "1. Emails\n",
    "2. Hospitals\n",
    "3. Credit Cards\n",
    "\n",
    "You will have to play the role of the client as well as the data scientist to come up with a problem that is more specific but related to these topics."
   ]
  },
  {
   "cell_type": "markdown",
   "metadata": {},
   "source": [
    "### <a class=\"anchor\" id=\"submission\"></a> My submission "
   ]
  },
  {
   "cell_type": "markdown",
   "metadata": {},
   "source": [
    "#### <a class=\"anchor\" id=\"q1\"></a> Q1. Which topic did you choose to apply the data science methodology to? (2 marks)\n",
    "\n",
    "Hospitals."
   ]
  },
  {
   "cell_type": "markdown",
   "metadata": {},
   "source": [
    "#### <a class=\"anchor\" id=\"q2\"></a> Q2. Next, you will play the role of the client and the data scientist. Using the topic that you selected, complete the Business Understanding stage by coming up with a problem that you would like to solve and phrasing it in the form of a question that you will use data to answer. (3 marks) You are required to:\n",
    "\n",
    "#### 1. Describe the problem, related to the topic you selected.\n",
    "#### 2. Phrase the problem as a question to be answered using data.\n",
    "\n",
    "#### For example, using the food recipes use case discussed in the labs, the question that we defined was, \"Can we automatically determine the cuisine of a given dish based on its ingredients?\".\n",
    "\n",
    "The doctors at the Icky Boorish Maladies (IBM) clinic are having a bad time diagnosing their patients. The problem is that some diseases have a few symptoms in common, making it hard to make a correct diagnosis/schedulling the adequate medical exams. Is it possible to use data science to predict the diseases of the patients of IBM, if their symptoms are known?"
   ]
  },
  {
   "cell_type": "markdown",
   "metadata": {},
   "source": [
    "#### <a class=\"anchor\" id=\"q3\"></a> Q3. Briefly explain how you would complete each of the following stages for the problem that you described in the Business Understanding stage, so that you are ultimately able to answer the question that you came up with. (5 marks):\n",
    "#### 1. Analytic Approach\n",
    "#### 2. Data Requirements\n",
    "#### 3. Data Collection\n",
    "#### 4. Data Understanding and Preparation\n",
    "#### 5. Modeling and Evaluation\n",
    "\n",
    "####  You can always refer to the labs as a reference with describing how you would complete each stage for your problem.\n",
    "\n",
    "1. A decision tree classification model will be employed.\n",
    "2. As for the data, a list of the symptoms of only the patients who have been diagnosed and cured in the last five years will be used. This is so, because IBM has been using the same system to register patients' symptoms for the last five years, so all data has the same format, and only the cured patients are considered because then can we be pretty certain that the diagnosis was correct.\n",
    "3. IBM has a system to register patients' symptoms, diagnosis and state of each disease, which they have been using for five years, and the data will be collected from there.\n",
    "4. While investigating the data, it was noticed that some patients from 3 to 5 years ago had a status \"cured\" without a diagnosis being made. The medical staff clarified that they did not found out what was wrong with these patients, but the patients are periodical submitted to routine check-ups and have not shown symptoms. These patients were not considered. As for the data considered, a table was made. Each row represents a patient and each column (except the last) a symptom, while the last column is the diagnosis. Each patient-column cell has a \"0\", if the patient does not have the symptom, or \"1\", if he has, (0 and 1 are floats). The last column has strings in lower case, in order to not repeat a diagnosis with a slightly different name.\n",
    "5. The data is split in a train set (around 70-80%) and a test set. A first decision tree model of some depth is created where the relative cost of \"yes\" or \"1\" is equal to the cost of \"no\" or \"0\" using the train set. Models with different relatives costs and depths are created. The test set is put through each model and the sensitivity, overall accuracy and specificity are calculated for each. To evaluate the models, a compromise between these parameters has to be made, with high sensitivity, meaning a higher true positive rate, and low specificity, meaning a lower false positive rate."
   ]
  }
 ],
 "metadata": {
  "kernelspec": {
   "display_name": "Python 3",
   "language": "python",
   "name": "python3"
  },
  "language_info": {
   "codemirror_mode": {
    "name": "ipython",
    "version": 3
   },
   "file_extension": ".py",
   "mimetype": "text/x-python",
   "name": "python",
   "nbconvert_exporter": "python",
   "pygments_lexer": "ipython3",
   "version": "3.7.6"
  }
 },
 "nbformat": 4,
 "nbformat_minor": 4
}
