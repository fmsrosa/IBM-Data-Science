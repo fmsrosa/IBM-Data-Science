{
 "cells": [
  {
   "cell_type": "markdown",
   "metadata": {},
   "source": [
    "## Final Assignment of the course *Tools for Data Science* \n",
    "## Create and share your Jupyter Notebook\n",
    "#### Submitted on 15 January 2019"
   ]
  },
  {
   "cell_type": "markdown",
   "metadata": {},
   "source": [
    "This notebook is organized as following:\n",
    "\n",
    "* [Overview of the course](#overview)\n",
    "* [Assignment instructions](#instructions)\n",
    "* [My submission](#submission)"
   ]
  },
  {
   "cell_type": "markdown",
   "metadata": {},
   "source": [
    "### Overview of the course <a class=\"anchor\" id=\"overview\"></a>\n",
    "\n",
    "What are some of the most popular data science tools, how do you use them, and what are their features? In this course, you'll learn about Jupyter Notebooks, JupyterLab, RStudio IDE, Git, GitHub, and Watson Studio. You will learn about what each tool is used for, what programming languages they can execute, their features and limitations. With the tools hosted in the cloud on Skills Network Labs, you will be able to test each tool and follow instructions to run simple code in Python, R or Scala. To end the course, you will create a final project with a Jupyter Notebook on IBM Watson Studio and demonstrate your proficiency preparing a notebook, writing Markdown, and sharing your work with your peers."
   ]
  },
  {
   "cell_type": "markdown",
   "metadata": {},
   "source": [
    "### Assignment instructions <a class=\"anchor\" id=\"instructions\"></a>\n",
    "\n",
    "Create a Jupyter Notebook using IBM Watson Studio. You can choose any language you want (Python, R, or Scala). You will need to include a combination of markdown and code cells. You will likely need to use the Markdown cheatsheet to help you determine the appropriate syntax to style your markdown.\n",
    "\n",
    "Guidelines for the submission:\n",
    "\n",
    "Create your Jupyter Notebook on IBM Watson Studio\n",
    "\n",
    "Include at least 6 cells:\n",
    "\n",
    "**Cell 1** (rendered as Markdown): The title should be \"My Jupyter Notebook on IBM Data Science Experience\", in H1 header styling. The title does not need to be centered.\n",
    "\n",
    "**Cell 2** (rendered as Markdown): Your name, in bold characters. In the line below your name, write your current or desired occupation in regular font.\n",
    "\n",
    "**Cell 3** (rendered as Markdown): In italic formatting, write one or two sentences about why you are interested in data science. For example, you can start your first sentence with \"I am interested in data science because ...\".\n",
    "\n",
    "**Cell 4** (rendered as Markdown): In H3 header styling, explain in a short sentence what your code is supposed to do in Cell 5.\n",
    "\n",
    "**Cell 5** (code cell): Your code, as described in Cell 4. It must be executed and must display an output. Try to keep the code simple (it can even be \"1 + 1\").\n",
    "\n",
    "**Cell 6** (rendered as Markdown): Using Markdown or HTML, this cell must include at least 3 of the following: horizontal rule, bulleted list, numbered list, tables, hyperlinks, images, code/syntax highlighting, blocked quotes, strikethrough."
   ]
  },
  {
   "cell_type": "markdown",
   "metadata": {},
   "source": [
    "### My Submission <a class=\"anchor\" id=\"submission\"></a>"
   ]
  },
  {
   "cell_type": "markdown",
   "metadata": {
    "collapsed": true
   },
   "source": [
    "# My Jupyter Notebook on IBM Data Science Experience"
   ]
  },
  {
   "cell_type": "markdown",
   "metadata": {},
   "source": [
    "**Margarida Santos**  \n",
    "Physics Engineer\n",
    "\n"
   ]
  },
  {
   "cell_type": "markdown",
   "metadata": {},
   "source": [
    "*I am interested in data science because I find it a field with many applications nowadays.*"
   ]
  },
  {
   "cell_type": "markdown",
   "metadata": {},
   "source": [
    "### Calculate the sum of 2 plus 2"
   ]
  },
  {
   "cell_type": "code",
   "execution_count": 3,
   "metadata": {},
   "outputs": [
    {
     "data": {
      "text/plain": [
       "4"
      ]
     },
     "execution_count": 3,
     "metadata": {},
     "output_type": "execute_result"
    }
   ],
   "source": [
    "2 + 2"
   ]
  },
  {
   "cell_type": "markdown",
   "metadata": {},
   "source": [
    "***\n",
    "#### Confirm that 2 + 2 = ~~5~~ 4\n",
    "\n",
    "![alt text](https://encrypted-tbn0.gstatic.com/images?q=tbn:ANd9GcR9Ahh_1fW8HwlriCZ_X9_rhB-c4c31kC6XVID-gKczlKai9hZc-A)\n",
    "\n",
    "###### Why use Python to perform addition?\n",
    "1. It did not calculated 2 + 2 = 5;\n",
    "2. It is quicker than finding an image;\n",
    "3. It has all the capabilities of a calculator.\n"
   ]
  }
 ],
 "metadata": {
  "kernelspec": {
   "display_name": "Python 3",
   "language": "python",
   "name": "python3"
  },
  "language_info": {
   "codemirror_mode": {
    "name": "ipython",
    "version": 3
   },
   "file_extension": ".py",
   "mimetype": "text/x-python",
   "name": "python",
   "nbconvert_exporter": "python",
   "pygments_lexer": "ipython3",
   "version": "3.7.6"
  }
 },
 "nbformat": 4,
 "nbformat_minor": 1
}
