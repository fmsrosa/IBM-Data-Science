{
 "cells": [
  {
   "cell_type": "markdown",
   "metadata": {},
   "source": [
    "## Final Assignment of the course *What is Data Science?*\n",
    "#### Submitted on 28 December 2018 "
   ]
  },
  {
   "cell_type": "markdown",
   "metadata": {},
   "source": [
    "This notebook is organized as following:\n",
    "\n",
    "* [Overview of the course](#overview)\n",
    "* [Assignment instructions](#instructions)\n",
    "* [My submission](#submission)\n",
    "    * [Question 1](#q1)\n",
    "    * [Question 2](#q2)\n",
    "    * [Question 3](#q3)\n",
    "    * [Question 4](#q4)"
   ]
  },
  {
   "cell_type": "markdown",
   "metadata": {},
   "source": [
    "### Overview of the course <a class=\"anchor\" id=\"overview\"></a>\n",
    "\n",
    "The art of uncovering the insights and trends in data has been around since ancient times. The ancient Egyptians used census data to increase efficiency in tax collection and they accurately predicted the flooding of the Nile river every year. Since then, people working in data science have carved out a unique and distinct field for the work they do. This field is data science. In this course, we will meet some data science practitioners and we will get an overview of what data science is today."
   ]
  },
  {
   "cell_type": "markdown",
   "metadata": {},
   "source": [
    "### Assignment instructions <a class=\"anchor\" id=\"instructions\"></a>\n",
    "\n",
    "In this Assignment, you will demonstrate your understanding of the videos and the readings by answering open-ended questions, defining data science and data scientist, and describing the different sections comprising a final deliverable of a data science project. Please note that this assignment is worth 10% of your final grade."
   ]
  },
  {
   "cell_type": "markdown",
   "metadata": {},
   "source": [
    "### <a class=\"anchor\" id=\"submission\"></a> My submission "
   ]
  },
  {
   "cell_type": "markdown",
   "metadata": {},
   "source": [
    "#### <a class=\"anchor\" id=\"q1\"></a> Q1. Introduce yourself and share with your peers your background and any experience you have with data science. (1 mark) \n",
    "\n",
    "Hi, my name is Fátima and I have a Master's Degree in Physics Engineering. During my academic years, I had Math, Statistics and Programming classes, but never a Data Science class. However, most of my classes involved the analysis of experimental data and almost without noticing I had my first contact with Data Science. Eventually, I started using Python to analyse data because of its awesome libraries. \n",
    "\n",
    "Still, I had my biggest experience with Data Science during my Thesis. I studied the elemental composition of complex mineral and metal samples and I had a data set of around 150 observations and 30 variables. I manage to exclude some variables due to my Physics knowledge, but even then I was dealing with a sizable data set. So, I mostly used Principal Component Analysis as a dimensional reduction technique and Affinity Propagation Clustering to find similarities between observations, I got some results and from there I manage to tell a story."
   ]
  },
  {
   "cell_type": "markdown",
   "metadata": {},
   "source": [
    "#### <a class=\"anchor\" id=\"q2\"></a> Q2. Based on the videos and the reading material, how would you define a data scientist and data science? (3 marks) \n",
    "\n",
    "**Data Science** is a relatively new concept meaning the study of data. It is the analysis of data, of any size and in structured or unstructured form, through mathematical models, algorithms and/or other appropriate tools in order to find underlying factors. These factors provide insights which can be used to validate an hypothesis or model. Then, the **data scientist**, the researcher who practices data science, uses what he/she uncovered to create a compelling story for interested parties. As such, the definition of **data scientist** is not be restrictive to a single academic background, but instead it is applied to individuals with a curious and judgmental mind, knowledge in analytics, and good storytelling skills who focus in solving data-centric problems."
   ]
  },
  {
   "cell_type": "markdown",
   "metadata": {},
   "source": [
    "#### <a class=\"anchor\" id=\"q3\"></a> Q3. As discussed in the videos and the reading material, data science can be applied to problems across different industries. What industry are you passionate about and would like to pursue a data science career in? (1 mark) \n",
    "\n",
    "I definitely want to do something related with Physics. I like the subject of Materials Science, in which I had some experience during my Master's Thesis. More than that, I believe I can be quite good in this field, since I have other qualities and technical knowledge. For example, I try to find cohesive explanations for my results and I do have the expertise to guarantee that the collected data (usually by experimental techniques) is correctly gathered.\n",
    "\n",
    "Other than that, I would not mind in analysing electrical consumes or emission of gases, in order to find patterns and eventually sustainable solutions, given the importance of the subject nowadays."
   ]
  },
  {
   "cell_type": "markdown",
   "metadata": {},
   "source": [
    "#### <a class=\"anchor\" id=\"q4\"></a> Q4. Based on the videos and the reading material, what are the ten main components of a report that would be delivered at the end of a data science project? (5 marks) \n",
    "\n",
    "The final report should be a written document with the following sections/chapters (in this order):\n",
    "1. **Cover Page** - It should include the title of the report, names of authors, their affiliations, and contacts, name of the institutional publisher (if applicable), and the date of publication. It can have logos of the institutional publisher and collaborative partners (if applicable).\n",
    "2. **Table of Contents (ToC)** - It should contain main headings at minimum, but it can show headings up to any depth. Lists of figures and tables also help the reader examining the report.\n",
    "3. **Introduction** -  It is the appropriate section to set up the problem at hand and explain the motivation for solving it. It can also be used to introduce concepts which may unfamiliar to the reader. It should be written for inexperience readers in the field, although in some cases it can be assumed that the readers have basic knowledge on the subject.\n",
    "4. **Methodology** - It states the collection (if applicable) and research methods, and data sources used for the analysis. The selection of said methods should be supported by the findings in the Literature Review section/chapter.\n",
    "5. **Results** - It is the section/chapter where the empirical findings can be found. Usually, it has a high number of plots and tables, which should be both self-explanatory (using short captions along with long descriptive ones is a good strategy)  and explained in text format.\n",
    "6. **Discussion** - It is the section/chapter where the author communicate his findings. The story narrated should be supported by arguments based on the Results section/chapter.\n",
    "7. **Conclusion - It should highlight important findings discussed on the Discussion section/chapter in \"a rather marketing approach\", as pointed by Murtaza Haider. It may propose future research and applications.\n",
    "8. **References** - It is a list of references in a given order (for example, by the first author's last name) and style (for example, APA or IEEE) used and referred along the report. \n",
    "9. **Acknowledgements** - A section/chapter where people and/or institutions who supported the project are acknowledged. It can be written in a semi-formal format.\n",
    "10. **Appendices** - A separated portion of he report usually numbered in a different fashion, where additional documents are shown. Some reports may not have appendices.\n",
    "\n",
    "Most reports should also contain an **Abstract** or **Executive Summary** and a **Literature Review** section/chapter. The **Abstract** or **Executive Summary** is a brief summary of the report. Usually, it has 500-1000 words and three paragraphs, where the first presents the problem, the second the methods employed and the third important results found. In its turn, the **Literature Review** section/chapter covers the contributions of other researchers on the subject. If many contributions exist, the more influential authors should be referred. This section/chapter can be used to highlight gaps in the existing knowledge and how the author intends to fill them."
   ]
  }
 ],
 "metadata": {
  "kernelspec": {
   "display_name": "Python 3",
   "language": "python",
   "name": "python3"
  },
  "language_info": {
   "codemirror_mode": {
    "name": "ipython",
    "version": 3
   },
   "file_extension": ".py",
   "mimetype": "text/x-python",
   "name": "python",
   "nbconvert_exporter": "python",
   "pygments_lexer": "ipython3",
   "version": "3.7.6"
  }
 },
 "nbformat": 4,
 "nbformat_minor": 4
}
