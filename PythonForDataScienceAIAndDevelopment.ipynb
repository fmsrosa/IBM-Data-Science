{
 "cells": [
  {
   "cell_type": "markdown",
   "metadata": {},
   "source": [
    "## Final Assignment of the course *Python for Data Science, AI & Development*\n",
    "### *Make a Fake Album Cover Game with Web Scraping*\n",
    "**Submitted on 15 January 2019**"
   ]
  },
  {
   "cell_type": "markdown",
   "metadata": {},
   "source": [
    "This notebook is organized as following:\n",
    "\n",
    "* [Overview of the course](#overview)\n",
    "* [Assignment instructions](#instructions)\n",
    "* [My submission](#submission)\n",
    "    * [Question 1](#q1)\n",
    "    * [Question 2](#q2)\n",
    "    * [Question 3](#q3)\n",
    "    * [Question 4](#q4)\n",
    "    * [Question 5](#q5)"
   ]
  },
  {
   "cell_type": "markdown",
   "metadata": {},
   "source": [
    "### Overview of the course <a class=\"anchor\" id=\"overview\"></a>\n",
    "\n",
    "Kickstart your learning of Python for data science, as well as programming in general, with this beginner-friendly introduction to Python. Python is one of the world’s most popular programming languages, and there has never been greater demand for professionals with the ability to apply Python fundamentals to drive business solutions across industries. \n",
    "\n",
    "This course will take you from zero to programming in Python in a matter of hours—no prior programming experience necessary! You will learn Python fundamentals, including data structures and data analysis, complete hands-on exercises throughout the course modules, and create a final project to demonstrate your new skills. \n",
    "\n",
    "By the end of this course, you’ll feel comfortable creating basic programs, working with data, and solving real-world problems in Python. You’ll gain a strong foundation for more advanced learning in the field, and develop skills to help advance your career. "
   ]
  },
  {
   "cell_type": "markdown",
   "metadata": {},
   "source": [
    "### Assignment instructions <a class=\"anchor\" id=\"instructions\"></a>\n",
    "\n",
    "The web or internet contains lots of useful information for data scientists. Web scraping or harvesting data involves extracting data from websites. You can then use this data for many applications. In this assignment, you will use Web scraping to automatically make a randomly generated album cover. The album cover will consist of the name of the band and the name of the album; these will be titles from two randomly selected Wikipedia articles. Each title will be placed on the top and bottom of the cover the order does not matter. You will apply your knowledge of indexing, using functions and methods, importing libraries and working with strings.\n",
    "\n",
    "You will be given a templet notebook in the section Fake Album Cover Game Lab with all the instructions, with much of the code you need.\n",
    "\n",
    "You will receive one mark for most questions; two questions are worth two marks. You will go to the lab: Make a Fake Album Cover Game Lab and complete the following steps.\n",
    "\n",
    "The first step is to use the function display_cover to display the 'Python' on the top of the album cover and 'Data Science' on the bottom, as shown here:\n",
    "\n",
    "<img src=\"images/course4_instructions1.png\">\n",
    "\n",
    "The second step is getting a random page from Wikipedia and converting it to a string; we will use a lot of build-in functions for this step. The result should look something like this:\n",
    "\n",
    "<img src=\"images/course4_instructions2.png\">\n",
    "\n",
    "The third step is to extract the title of the article that is enclosed within HTML tag titles and get rid of the phrase - Wikipedia, then assign it to the variable band_title.\n",
    "\n",
    "For the fourth step you will repeat the second and third step, but assign the value to the variable album_title.\n",
    "\n",
    "Finally, you will use the function display_cover to print out the album cover with two random article titles representing the name of the band and the title of the album. The result should look something like this:\n",
    "\n",
    "<img src=\"images/course4_instructions3.png\">"
   ]
  },
  {
   "cell_type": "markdown",
   "metadata": {},
   "source": [
    "### <a class=\"anchor\" id=\"submission\"></a> My submission "
   ]
  },
  {
   "cell_type": "markdown",
   "metadata": {},
   "source": [
    "#### <a class=\"anchor\" id=\"q1\"></a> Q1. Display Python on the Top left of the image and Data Science on the bottom left.  Please take a screen shot of the answer, and upload an image file.\n",
    "\n",
    "<img src=\"images/course4_submission1.png\">"
   ]
  },
  {
   "cell_type": "markdown",
   "metadata": {},
   "source": [
    "#### <a class=\"anchor\" id=\"q2\"></a> Q2. Please take a screenshot of the HTML outputs, and upload it as an image.  You do not need to  take the entire HTML outputs. \n",
    "\n",
    "<img src=\"images/course4_submission2.png\">"
   ]
  },
  {
   "cell_type": "markdown",
   "metadata": {},
   "source": [
    "#### <a class=\"anchor\" id=\"q3\"></a> Q3. Use the title of the Wikipedia article as the title of the band. The title of the article is surrounded by the HTML tag title. Please take a screenshot on your code and outputs, and upload it as an image. \n",
    "\n",
    "<img src=\"images/course4_submission3.png\">"
   ]
  },
  {
   "cell_type": "markdown",
   "metadata": {},
   "source": [
    "#### <a class=\"anchor\" id=\"q4\"></a> Q4. Use the title of the Wikipedia article as the title of the album . The title of the article is surrounded by the HTML tag title. Please take a screenshot on your code and outputs, and upload it as an image.\n",
    "\n",
    "<img src=\"images/course4_submission4.png\">"
   ]
  },
  {
   "cell_type": "markdown",
   "metadata": {},
   "source": [
    "#### <a class=\"anchor\" id=\"q5\"></a> Q5. Finally, you will use the function display_cover to print out the album cover with two random article titles representing the name of the band and the title of the album. Please take a screenshot on your code and outputs, and upload it as an image.\n",
    "\n",
    "<img src=\"images/course4_submission5.png\">"
   ]
  }
 ],
 "metadata": {
  "kernelspec": {
   "display_name": "Python 3",
   "language": "python",
   "name": "python3"
  },
  "language_info": {
   "codemirror_mode": {
    "name": "ipython",
    "version": 3
   },
   "file_extension": ".py",
   "mimetype": "text/x-python",
   "name": "python",
   "nbconvert_exporter": "python",
   "pygments_lexer": "ipython3",
   "version": "3.7.6"
  }
 },
 "nbformat": 4,
 "nbformat_minor": 4
}
